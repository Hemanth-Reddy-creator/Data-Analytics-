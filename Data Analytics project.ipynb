{
 "cells": [
  {
   "cell_type": "markdown",
   "id": "259e3d6f",
   "metadata": {},
   "source": [
    " <h1>Doctor Visit Analysis using python project work</h1>"
   ]
  },
  {
   "cell_type": "markdown",
   "id": "353b4cee",
   "metadata": {},
   "source": [
    "<b>About the DoctorVisits dataset<b><br>\n",
    "  \n",
    "A data frame containing 5,190 observations on 12 variables.\n",
    "\n",
    "visits:Number of doctor visits in past 2 weeks.\n",
    "\n",
    "gender:Factor indicating gender.\n",
    "\n",
    "age:Age in years divided by 100.\n",
    "\n",
    "income:Annual income in tens of thousands of dollars.\n",
    "\n",
    "illness:Number of illnesses in past 2 weeks.\n",
    "\n",
    "reduced:Number of days of reduced activity in past 2 weeks due to illness or injury.\n",
    "\n",
    "health:General health questionnaire score using Goldberg's method.\n",
    "\n",
    "private:Factor. Does the individual have private health insurance?\n",
    "\n",
    "freepoor:Factor. Does the individual have free government health insurance due to low income?\n",
    "\n",
    "freerepat:Factor. Does the individual have free government health insurance due to old age, disability or veteran status?\n",
    "\n",
    "nchronic:Factor. Is there a chronic condition not limiting activity?\n",
    "\n",
    "lchronic:Factor. Is there a chronic condition limiting activity?"
   ]
  },
  {
   "cell_type": "markdown",
   "id": "b285ba85",
   "metadata": {},
   "source": [
    "<h2>1.Importing the libraries</h2>"
   ]
  },
  {
   "cell_type": "code",
   "execution_count": 2,
   "id": "63de3d93",
   "metadata": {},
   "outputs": [],
   "source": [
    "import numpy as np\n",
    "import pandas as pd\n",
    "import matplotlib.pyplot as plt\n",
    "import seaborn as sns"
   ]
  },
  {
   "cell_type": "markdown",
   "id": "b9423ee2",
   "metadata": {},
   "source": [
    "<h2>2.Loading the data using Pandas library</h2>\n",
    "   "
   ]
  },
  {
   "cell_type": "code",
   "execution_count": 3,
   "id": "a7d74cf8",
   "metadata": {},
   "outputs": [],
   "source": [
    "\n",
    "df=pd.read_excel(\"DoctorVisits.xlsx\")"
   ]
  },
  {
   "cell_type": "markdown",
   "id": "32cc02e1",
   "metadata": {},
   "source": [
    "<h4>Printing the 5 rows of a data which is present in dataframe \"df\" using head function</h4>"
   ]
  },
  {
   "cell_type": "code",
   "execution_count": 4,
   "id": "c14efcc6",
   "metadata": {},
   "outputs": [
    {
     "data": {
      "text/html": [
       "<div>\n",
       "<style scoped>\n",
       "    .dataframe tbody tr th:only-of-type {\n",
       "        vertical-align: middle;\n",
       "    }\n",
       "\n",
       "    .dataframe tbody tr th {\n",
       "        vertical-align: top;\n",
       "    }\n",
       "\n",
       "    .dataframe thead th {\n",
       "        text-align: right;\n",
       "    }\n",
       "</style>\n",
       "<table border=\"1\" class=\"dataframe\">\n",
       "  <thead>\n",
       "    <tr style=\"text-align: right;\">\n",
       "      <th></th>\n",
       "      <th>Unnamed: 0</th>\n",
       "      <th>visits</th>\n",
       "      <th>gender</th>\n",
       "      <th>age</th>\n",
       "      <th>income</th>\n",
       "      <th>illness</th>\n",
       "      <th>reduced</th>\n",
       "      <th>health</th>\n",
       "      <th>private</th>\n",
       "      <th>freepoor</th>\n",
       "      <th>freerepat</th>\n",
       "      <th>nchronic</th>\n",
       "      <th>lchronic</th>\n",
       "    </tr>\n",
       "  </thead>\n",
       "  <tbody>\n",
       "    <tr>\n",
       "      <th>0</th>\n",
       "      <td>1</td>\n",
       "      <td>1</td>\n",
       "      <td>female</td>\n",
       "      <td>0.19</td>\n",
       "      <td>0.55</td>\n",
       "      <td>1</td>\n",
       "      <td>4</td>\n",
       "      <td>1</td>\n",
       "      <td>yes</td>\n",
       "      <td>no</td>\n",
       "      <td>no</td>\n",
       "      <td>no</td>\n",
       "      <td>no</td>\n",
       "    </tr>\n",
       "    <tr>\n",
       "      <th>1</th>\n",
       "      <td>2</td>\n",
       "      <td>1</td>\n",
       "      <td>female</td>\n",
       "      <td>0.19</td>\n",
       "      <td>0.45</td>\n",
       "      <td>1</td>\n",
       "      <td>2</td>\n",
       "      <td>1</td>\n",
       "      <td>yes</td>\n",
       "      <td>no</td>\n",
       "      <td>no</td>\n",
       "      <td>no</td>\n",
       "      <td>no</td>\n",
       "    </tr>\n",
       "    <tr>\n",
       "      <th>2</th>\n",
       "      <td>3</td>\n",
       "      <td>1</td>\n",
       "      <td>male</td>\n",
       "      <td>0.19</td>\n",
       "      <td>0.90</td>\n",
       "      <td>3</td>\n",
       "      <td>0</td>\n",
       "      <td>0</td>\n",
       "      <td>no</td>\n",
       "      <td>no</td>\n",
       "      <td>no</td>\n",
       "      <td>no</td>\n",
       "      <td>no</td>\n",
       "    </tr>\n",
       "    <tr>\n",
       "      <th>3</th>\n",
       "      <td>4</td>\n",
       "      <td>1</td>\n",
       "      <td>male</td>\n",
       "      <td>0.19</td>\n",
       "      <td>0.15</td>\n",
       "      <td>1</td>\n",
       "      <td>0</td>\n",
       "      <td>0</td>\n",
       "      <td>no</td>\n",
       "      <td>no</td>\n",
       "      <td>no</td>\n",
       "      <td>no</td>\n",
       "      <td>no</td>\n",
       "    </tr>\n",
       "    <tr>\n",
       "      <th>4</th>\n",
       "      <td>5</td>\n",
       "      <td>1</td>\n",
       "      <td>male</td>\n",
       "      <td>0.19</td>\n",
       "      <td>0.45</td>\n",
       "      <td>2</td>\n",
       "      <td>5</td>\n",
       "      <td>1</td>\n",
       "      <td>no</td>\n",
       "      <td>no</td>\n",
       "      <td>no</td>\n",
       "      <td>yes</td>\n",
       "      <td>no</td>\n",
       "    </tr>\n",
       "  </tbody>\n",
       "</table>\n",
       "</div>"
      ],
      "text/plain": [
       "   Unnamed: 0  visits  gender   age  income  illness  reduced  health private  \\\n",
       "0           1       1  female  0.19    0.55        1        4       1     yes   \n",
       "1           2       1  female  0.19    0.45        1        2       1     yes   \n",
       "2           3       1    male  0.19    0.90        3        0       0      no   \n",
       "3           4       1    male  0.19    0.15        1        0       0      no   \n",
       "4           5       1    male  0.19    0.45        2        5       1      no   \n",
       "\n",
       "  freepoor freerepat nchronic lchronic  \n",
       "0       no        no       no       no  \n",
       "1       no        no       no       no  \n",
       "2       no        no       no       no  \n",
       "3       no        no       no       no  \n",
       "4       no        no      yes       no  "
      ]
     },
     "execution_count": 4,
     "metadata": {},
     "output_type": "execute_result"
    }
   ],
   "source": [
    "df.head()"
   ]
  },
  {
   "cell_type": "markdown",
   "id": "83de3825",
   "metadata": {},
   "source": [
    "<h2>3.Preparation of the data (cleaning(Filling missing value, Filling null value etc..),Arranging columns for analysis)</h2>"
   ]
  },
  {
   "cell_type": "markdown",
   "id": "50b7255e",
   "metadata": {},
   "source": [
    "<h3>i.Checking Null values</h3> "
   ]
  },
  {
   "cell_type": "code",
   "execution_count": 5,
   "id": "b324e8fc",
   "metadata": {},
   "outputs": [
    {
     "data": {
      "text/html": [
       "<div>\n",
       "<style scoped>\n",
       "    .dataframe tbody tr th:only-of-type {\n",
       "        vertical-align: middle;\n",
       "    }\n",
       "\n",
       "    .dataframe tbody tr th {\n",
       "        vertical-align: top;\n",
       "    }\n",
       "\n",
       "    .dataframe thead th {\n",
       "        text-align: right;\n",
       "    }\n",
       "</style>\n",
       "<table border=\"1\" class=\"dataframe\">\n",
       "  <thead>\n",
       "    <tr style=\"text-align: right;\">\n",
       "      <th></th>\n",
       "      <th>Unnamed: 0</th>\n",
       "      <th>visits</th>\n",
       "      <th>gender</th>\n",
       "      <th>age</th>\n",
       "      <th>income</th>\n",
       "      <th>illness</th>\n",
       "      <th>reduced</th>\n",
       "      <th>health</th>\n",
       "      <th>private</th>\n",
       "      <th>freepoor</th>\n",
       "      <th>freerepat</th>\n",
       "      <th>nchronic</th>\n",
       "      <th>lchronic</th>\n",
       "    </tr>\n",
       "  </thead>\n",
       "  <tbody>\n",
       "    <tr>\n",
       "      <th>0</th>\n",
       "      <td>False</td>\n",
       "      <td>False</td>\n",
       "      <td>False</td>\n",
       "      <td>False</td>\n",
       "      <td>False</td>\n",
       "      <td>False</td>\n",
       "      <td>False</td>\n",
       "      <td>False</td>\n",
       "      <td>False</td>\n",
       "      <td>False</td>\n",
       "      <td>False</td>\n",
       "      <td>False</td>\n",
       "      <td>False</td>\n",
       "    </tr>\n",
       "    <tr>\n",
       "      <th>1</th>\n",
       "      <td>False</td>\n",
       "      <td>False</td>\n",
       "      <td>False</td>\n",
       "      <td>False</td>\n",
       "      <td>False</td>\n",
       "      <td>False</td>\n",
       "      <td>False</td>\n",
       "      <td>False</td>\n",
       "      <td>False</td>\n",
       "      <td>False</td>\n",
       "      <td>False</td>\n",
       "      <td>False</td>\n",
       "      <td>False</td>\n",
       "    </tr>\n",
       "    <tr>\n",
       "      <th>2</th>\n",
       "      <td>False</td>\n",
       "      <td>False</td>\n",
       "      <td>False</td>\n",
       "      <td>False</td>\n",
       "      <td>False</td>\n",
       "      <td>False</td>\n",
       "      <td>False</td>\n",
       "      <td>False</td>\n",
       "      <td>False</td>\n",
       "      <td>False</td>\n",
       "      <td>False</td>\n",
       "      <td>False</td>\n",
       "      <td>False</td>\n",
       "    </tr>\n",
       "    <tr>\n",
       "      <th>3</th>\n",
       "      <td>False</td>\n",
       "      <td>False</td>\n",
       "      <td>False</td>\n",
       "      <td>False</td>\n",
       "      <td>False</td>\n",
       "      <td>False</td>\n",
       "      <td>False</td>\n",
       "      <td>False</td>\n",
       "      <td>False</td>\n",
       "      <td>False</td>\n",
       "      <td>False</td>\n",
       "      <td>False</td>\n",
       "      <td>False</td>\n",
       "    </tr>\n",
       "    <tr>\n",
       "      <th>4</th>\n",
       "      <td>False</td>\n",
       "      <td>False</td>\n",
       "      <td>False</td>\n",
       "      <td>False</td>\n",
       "      <td>False</td>\n",
       "      <td>False</td>\n",
       "      <td>False</td>\n",
       "      <td>False</td>\n",
       "      <td>False</td>\n",
       "      <td>False</td>\n",
       "      <td>False</td>\n",
       "      <td>False</td>\n",
       "      <td>False</td>\n",
       "    </tr>\n",
       "    <tr>\n",
       "      <th>...</th>\n",
       "      <td>...</td>\n",
       "      <td>...</td>\n",
       "      <td>...</td>\n",
       "      <td>...</td>\n",
       "      <td>...</td>\n",
       "      <td>...</td>\n",
       "      <td>...</td>\n",
       "      <td>...</td>\n",
       "      <td>...</td>\n",
       "      <td>...</td>\n",
       "      <td>...</td>\n",
       "      <td>...</td>\n",
       "      <td>...</td>\n",
       "    </tr>\n",
       "    <tr>\n",
       "      <th>5185</th>\n",
       "      <td>False</td>\n",
       "      <td>False</td>\n",
       "      <td>False</td>\n",
       "      <td>False</td>\n",
       "      <td>False</td>\n",
       "      <td>False</td>\n",
       "      <td>False</td>\n",
       "      <td>False</td>\n",
       "      <td>False</td>\n",
       "      <td>False</td>\n",
       "      <td>False</td>\n",
       "      <td>False</td>\n",
       "      <td>False</td>\n",
       "    </tr>\n",
       "    <tr>\n",
       "      <th>5186</th>\n",
       "      <td>False</td>\n",
       "      <td>False</td>\n",
       "      <td>False</td>\n",
       "      <td>False</td>\n",
       "      <td>False</td>\n",
       "      <td>False</td>\n",
       "      <td>False</td>\n",
       "      <td>False</td>\n",
       "      <td>False</td>\n",
       "      <td>False</td>\n",
       "      <td>False</td>\n",
       "      <td>False</td>\n",
       "      <td>False</td>\n",
       "    </tr>\n",
       "    <tr>\n",
       "      <th>5187</th>\n",
       "      <td>False</td>\n",
       "      <td>False</td>\n",
       "      <td>False</td>\n",
       "      <td>False</td>\n",
       "      <td>False</td>\n",
       "      <td>False</td>\n",
       "      <td>False</td>\n",
       "      <td>False</td>\n",
       "      <td>False</td>\n",
       "      <td>False</td>\n",
       "      <td>False</td>\n",
       "      <td>False</td>\n",
       "      <td>False</td>\n",
       "    </tr>\n",
       "    <tr>\n",
       "      <th>5188</th>\n",
       "      <td>False</td>\n",
       "      <td>False</td>\n",
       "      <td>False</td>\n",
       "      <td>False</td>\n",
       "      <td>False</td>\n",
       "      <td>False</td>\n",
       "      <td>False</td>\n",
       "      <td>False</td>\n",
       "      <td>False</td>\n",
       "      <td>False</td>\n",
       "      <td>False</td>\n",
       "      <td>False</td>\n",
       "      <td>False</td>\n",
       "    </tr>\n",
       "    <tr>\n",
       "      <th>5189</th>\n",
       "      <td>False</td>\n",
       "      <td>False</td>\n",
       "      <td>False</td>\n",
       "      <td>False</td>\n",
       "      <td>False</td>\n",
       "      <td>False</td>\n",
       "      <td>False</td>\n",
       "      <td>False</td>\n",
       "      <td>False</td>\n",
       "      <td>False</td>\n",
       "      <td>False</td>\n",
       "      <td>False</td>\n",
       "      <td>False</td>\n",
       "    </tr>\n",
       "  </tbody>\n",
       "</table>\n",
       "<p>5190 rows × 13 columns</p>\n",
       "</div>"
      ],
      "text/plain": [
       "      Unnamed: 0  visits  gender    age  income  illness  reduced  health  \\\n",
       "0          False   False   False  False   False    False    False   False   \n",
       "1          False   False   False  False   False    False    False   False   \n",
       "2          False   False   False  False   False    False    False   False   \n",
       "3          False   False   False  False   False    False    False   False   \n",
       "4          False   False   False  False   False    False    False   False   \n",
       "...          ...     ...     ...    ...     ...      ...      ...     ...   \n",
       "5185       False   False   False  False   False    False    False   False   \n",
       "5186       False   False   False  False   False    False    False   False   \n",
       "5187       False   False   False  False   False    False    False   False   \n",
       "5188       False   False   False  False   False    False    False   False   \n",
       "5189       False   False   False  False   False    False    False   False   \n",
       "\n",
       "      private  freepoor  freerepat  nchronic  lchronic  \n",
       "0       False     False      False     False     False  \n",
       "1       False     False      False     False     False  \n",
       "2       False     False      False     False     False  \n",
       "3       False     False      False     False     False  \n",
       "4       False     False      False     False     False  \n",
       "...       ...       ...        ...       ...       ...  \n",
       "5185    False     False      False     False     False  \n",
       "5186    False     False      False     False     False  \n",
       "5187    False     False      False     False     False  \n",
       "5188    False     False      False     False     False  \n",
       "5189    False     False      False     False     False  \n",
       "\n",
       "[5190 rows x 13 columns]"
      ]
     },
     "execution_count": 5,
     "metadata": {},
     "output_type": "execute_result"
    }
   ],
   "source": [
    "df.isnull()"
   ]
  },
  {
   "cell_type": "code",
   "execution_count": 6,
   "id": "a10c04f5",
   "metadata": {},
   "outputs": [
    {
     "data": {
      "text/plain": [
       "Unnamed: 0  visits  gender  age    income  illness  reduced  health  private  freepoor  freerepat  nchronic  lchronic\n",
       "False       False   False   False  False   False    False    False   False    False     False      False     False       5190\n",
       "dtype: int64"
      ]
     },
     "execution_count": 6,
     "metadata": {},
     "output_type": "execute_result"
    }
   ],
   "source": [
    "df.isnull().value_counts()"
   ]
  },
  {
   "cell_type": "markdown",
   "id": "9be34507",
   "metadata": {},
   "source": [
    "<h4>Result:</h4>Above data indicates there are null values.\n",
    "    "
   ]
  },
  {
   "cell_type": "markdown",
   "id": "791757ec",
   "metadata": {},
   "source": [
    "<h3>ii.Droping duplicate rows</h3>"
   ]
  },
  {
   "cell_type": "code",
   "execution_count": 7,
   "id": "a7acdd79",
   "metadata": {
    "scrolled": false
   },
   "outputs": [
    {
     "data": {
      "text/html": [
       "<div>\n",
       "<style scoped>\n",
       "    .dataframe tbody tr th:only-of-type {\n",
       "        vertical-align: middle;\n",
       "    }\n",
       "\n",
       "    .dataframe tbody tr th {\n",
       "        vertical-align: top;\n",
       "    }\n",
       "\n",
       "    .dataframe thead th {\n",
       "        text-align: right;\n",
       "    }\n",
       "</style>\n",
       "<table border=\"1\" class=\"dataframe\">\n",
       "  <thead>\n",
       "    <tr style=\"text-align: right;\">\n",
       "      <th></th>\n",
       "      <th>Unnamed: 0</th>\n",
       "      <th>visits</th>\n",
       "      <th>gender</th>\n",
       "      <th>age</th>\n",
       "      <th>income</th>\n",
       "      <th>illness</th>\n",
       "      <th>reduced</th>\n",
       "      <th>health</th>\n",
       "      <th>private</th>\n",
       "      <th>freepoor</th>\n",
       "      <th>freerepat</th>\n",
       "      <th>nchronic</th>\n",
       "      <th>lchronic</th>\n",
       "    </tr>\n",
       "  </thead>\n",
       "  <tbody>\n",
       "    <tr>\n",
       "      <th>0</th>\n",
       "      <td>1</td>\n",
       "      <td>1</td>\n",
       "      <td>female</td>\n",
       "      <td>0.19</td>\n",
       "      <td>0.55</td>\n",
       "      <td>1</td>\n",
       "      <td>4</td>\n",
       "      <td>1</td>\n",
       "      <td>yes</td>\n",
       "      <td>no</td>\n",
       "      <td>no</td>\n",
       "      <td>no</td>\n",
       "      <td>no</td>\n",
       "    </tr>\n",
       "    <tr>\n",
       "      <th>1</th>\n",
       "      <td>2</td>\n",
       "      <td>1</td>\n",
       "      <td>female</td>\n",
       "      <td>0.19</td>\n",
       "      <td>0.45</td>\n",
       "      <td>1</td>\n",
       "      <td>2</td>\n",
       "      <td>1</td>\n",
       "      <td>yes</td>\n",
       "      <td>no</td>\n",
       "      <td>no</td>\n",
       "      <td>no</td>\n",
       "      <td>no</td>\n",
       "    </tr>\n",
       "    <tr>\n",
       "      <th>2</th>\n",
       "      <td>3</td>\n",
       "      <td>1</td>\n",
       "      <td>male</td>\n",
       "      <td>0.19</td>\n",
       "      <td>0.90</td>\n",
       "      <td>3</td>\n",
       "      <td>0</td>\n",
       "      <td>0</td>\n",
       "      <td>no</td>\n",
       "      <td>no</td>\n",
       "      <td>no</td>\n",
       "      <td>no</td>\n",
       "      <td>no</td>\n",
       "    </tr>\n",
       "    <tr>\n",
       "      <th>3</th>\n",
       "      <td>4</td>\n",
       "      <td>1</td>\n",
       "      <td>male</td>\n",
       "      <td>0.19</td>\n",
       "      <td>0.15</td>\n",
       "      <td>1</td>\n",
       "      <td>0</td>\n",
       "      <td>0</td>\n",
       "      <td>no</td>\n",
       "      <td>no</td>\n",
       "      <td>no</td>\n",
       "      <td>no</td>\n",
       "      <td>no</td>\n",
       "    </tr>\n",
       "    <tr>\n",
       "      <th>4</th>\n",
       "      <td>5</td>\n",
       "      <td>1</td>\n",
       "      <td>male</td>\n",
       "      <td>0.19</td>\n",
       "      <td>0.45</td>\n",
       "      <td>2</td>\n",
       "      <td>5</td>\n",
       "      <td>1</td>\n",
       "      <td>no</td>\n",
       "      <td>no</td>\n",
       "      <td>no</td>\n",
       "      <td>yes</td>\n",
       "      <td>no</td>\n",
       "    </tr>\n",
       "    <tr>\n",
       "      <th>...</th>\n",
       "      <td>...</td>\n",
       "      <td>...</td>\n",
       "      <td>...</td>\n",
       "      <td>...</td>\n",
       "      <td>...</td>\n",
       "      <td>...</td>\n",
       "      <td>...</td>\n",
       "      <td>...</td>\n",
       "      <td>...</td>\n",
       "      <td>...</td>\n",
       "      <td>...</td>\n",
       "      <td>...</td>\n",
       "      <td>...</td>\n",
       "    </tr>\n",
       "    <tr>\n",
       "      <th>5185</th>\n",
       "      <td>5186</td>\n",
       "      <td>0</td>\n",
       "      <td>female</td>\n",
       "      <td>0.22</td>\n",
       "      <td>0.55</td>\n",
       "      <td>0</td>\n",
       "      <td>0</td>\n",
       "      <td>0</td>\n",
       "      <td>no</td>\n",
       "      <td>no</td>\n",
       "      <td>no</td>\n",
       "      <td>no</td>\n",
       "      <td>no</td>\n",
       "    </tr>\n",
       "    <tr>\n",
       "      <th>5186</th>\n",
       "      <td>5187</td>\n",
       "      <td>0</td>\n",
       "      <td>male</td>\n",
       "      <td>0.27</td>\n",
       "      <td>1.30</td>\n",
       "      <td>0</td>\n",
       "      <td>0</td>\n",
       "      <td>1</td>\n",
       "      <td>no</td>\n",
       "      <td>no</td>\n",
       "      <td>no</td>\n",
       "      <td>no</td>\n",
       "      <td>no</td>\n",
       "    </tr>\n",
       "    <tr>\n",
       "      <th>5187</th>\n",
       "      <td>5188</td>\n",
       "      <td>0</td>\n",
       "      <td>female</td>\n",
       "      <td>0.37</td>\n",
       "      <td>0.25</td>\n",
       "      <td>1</td>\n",
       "      <td>0</td>\n",
       "      <td>1</td>\n",
       "      <td>no</td>\n",
       "      <td>no</td>\n",
       "      <td>yes</td>\n",
       "      <td>no</td>\n",
       "      <td>no</td>\n",
       "    </tr>\n",
       "    <tr>\n",
       "      <th>5188</th>\n",
       "      <td>5189</td>\n",
       "      <td>0</td>\n",
       "      <td>female</td>\n",
       "      <td>0.52</td>\n",
       "      <td>0.65</td>\n",
       "      <td>0</td>\n",
       "      <td>0</td>\n",
       "      <td>0</td>\n",
       "      <td>no</td>\n",
       "      <td>no</td>\n",
       "      <td>no</td>\n",
       "      <td>no</td>\n",
       "      <td>no</td>\n",
       "    </tr>\n",
       "    <tr>\n",
       "      <th>5189</th>\n",
       "      <td>5190</td>\n",
       "      <td>0</td>\n",
       "      <td>male</td>\n",
       "      <td>0.72</td>\n",
       "      <td>0.25</td>\n",
       "      <td>0</td>\n",
       "      <td>0</td>\n",
       "      <td>0</td>\n",
       "      <td>no</td>\n",
       "      <td>no</td>\n",
       "      <td>yes</td>\n",
       "      <td>no</td>\n",
       "      <td>no</td>\n",
       "    </tr>\n",
       "  </tbody>\n",
       "</table>\n",
       "<p>5190 rows × 13 columns</p>\n",
       "</div>"
      ],
      "text/plain": [
       "      Unnamed: 0  visits  gender   age  income  illness  reduced  health  \\\n",
       "0              1       1  female  0.19    0.55        1        4       1   \n",
       "1              2       1  female  0.19    0.45        1        2       1   \n",
       "2              3       1    male  0.19    0.90        3        0       0   \n",
       "3              4       1    male  0.19    0.15        1        0       0   \n",
       "4              5       1    male  0.19    0.45        2        5       1   \n",
       "...          ...     ...     ...   ...     ...      ...      ...     ...   \n",
       "5185        5186       0  female  0.22    0.55        0        0       0   \n",
       "5186        5187       0    male  0.27    1.30        0        0       1   \n",
       "5187        5188       0  female  0.37    0.25        1        0       1   \n",
       "5188        5189       0  female  0.52    0.65        0        0       0   \n",
       "5189        5190       0    male  0.72    0.25        0        0       0   \n",
       "\n",
       "     private freepoor freerepat nchronic lchronic  \n",
       "0        yes       no        no       no       no  \n",
       "1        yes       no        no       no       no  \n",
       "2         no       no        no       no       no  \n",
       "3         no       no        no       no       no  \n",
       "4         no       no        no      yes       no  \n",
       "...      ...      ...       ...      ...      ...  \n",
       "5185      no       no        no       no       no  \n",
       "5186      no       no        no       no       no  \n",
       "5187      no       no       yes       no       no  \n",
       "5188      no       no        no       no       no  \n",
       "5189      no       no       yes       no       no  \n",
       "\n",
       "[5190 rows x 13 columns]"
      ]
     },
     "execution_count": 7,
     "metadata": {},
     "output_type": "execute_result"
    }
   ],
   "source": [
    "df.drop_duplicates()"
   ]
  },
  {
   "cell_type": "markdown",
   "id": "9faad7b6",
   "metadata": {},
   "source": [
    "<h4>Result: </h4>Since there are no duplicates above data has been cleaned.."
   ]
  },
  {
   "cell_type": "markdown",
   "id": "706f6016",
   "metadata": {},
   "source": [
    "<h3>iii.Multiplying age column into 100 as it before divided by 100 to convert into normal age</h3>"
   ]
  },
  {
   "cell_type": "code",
   "execution_count": 8,
   "id": "225cb1d7",
   "metadata": {
    "scrolled": false
   },
   "outputs": [
    {
     "data": {
      "text/html": [
       "<div>\n",
       "<style scoped>\n",
       "    .dataframe tbody tr th:only-of-type {\n",
       "        vertical-align: middle;\n",
       "    }\n",
       "\n",
       "    .dataframe tbody tr th {\n",
       "        vertical-align: top;\n",
       "    }\n",
       "\n",
       "    .dataframe thead th {\n",
       "        text-align: right;\n",
       "    }\n",
       "</style>\n",
       "<table border=\"1\" class=\"dataframe\">\n",
       "  <thead>\n",
       "    <tr style=\"text-align: right;\">\n",
       "      <th></th>\n",
       "      <th>Unnamed: 0</th>\n",
       "      <th>visits</th>\n",
       "      <th>gender</th>\n",
       "      <th>age</th>\n",
       "      <th>income</th>\n",
       "      <th>illness</th>\n",
       "      <th>reduced</th>\n",
       "      <th>health</th>\n",
       "      <th>private</th>\n",
       "      <th>freepoor</th>\n",
       "      <th>freerepat</th>\n",
       "      <th>nchronic</th>\n",
       "      <th>lchronic</th>\n",
       "    </tr>\n",
       "  </thead>\n",
       "  <tbody>\n",
       "    <tr>\n",
       "      <th>0</th>\n",
       "      <td>1</td>\n",
       "      <td>1</td>\n",
       "      <td>female</td>\n",
       "      <td>19.0</td>\n",
       "      <td>0.55</td>\n",
       "      <td>1</td>\n",
       "      <td>4</td>\n",
       "      <td>1</td>\n",
       "      <td>yes</td>\n",
       "      <td>no</td>\n",
       "      <td>no</td>\n",
       "      <td>no</td>\n",
       "      <td>no</td>\n",
       "    </tr>\n",
       "    <tr>\n",
       "      <th>1</th>\n",
       "      <td>2</td>\n",
       "      <td>1</td>\n",
       "      <td>female</td>\n",
       "      <td>19.0</td>\n",
       "      <td>0.45</td>\n",
       "      <td>1</td>\n",
       "      <td>2</td>\n",
       "      <td>1</td>\n",
       "      <td>yes</td>\n",
       "      <td>no</td>\n",
       "      <td>no</td>\n",
       "      <td>no</td>\n",
       "      <td>no</td>\n",
       "    </tr>\n",
       "    <tr>\n",
       "      <th>2</th>\n",
       "      <td>3</td>\n",
       "      <td>1</td>\n",
       "      <td>male</td>\n",
       "      <td>19.0</td>\n",
       "      <td>0.90</td>\n",
       "      <td>3</td>\n",
       "      <td>0</td>\n",
       "      <td>0</td>\n",
       "      <td>no</td>\n",
       "      <td>no</td>\n",
       "      <td>no</td>\n",
       "      <td>no</td>\n",
       "      <td>no</td>\n",
       "    </tr>\n",
       "    <tr>\n",
       "      <th>3</th>\n",
       "      <td>4</td>\n",
       "      <td>1</td>\n",
       "      <td>male</td>\n",
       "      <td>19.0</td>\n",
       "      <td>0.15</td>\n",
       "      <td>1</td>\n",
       "      <td>0</td>\n",
       "      <td>0</td>\n",
       "      <td>no</td>\n",
       "      <td>no</td>\n",
       "      <td>no</td>\n",
       "      <td>no</td>\n",
       "      <td>no</td>\n",
       "    </tr>\n",
       "    <tr>\n",
       "      <th>4</th>\n",
       "      <td>5</td>\n",
       "      <td>1</td>\n",
       "      <td>male</td>\n",
       "      <td>19.0</td>\n",
       "      <td>0.45</td>\n",
       "      <td>2</td>\n",
       "      <td>5</td>\n",
       "      <td>1</td>\n",
       "      <td>no</td>\n",
       "      <td>no</td>\n",
       "      <td>no</td>\n",
       "      <td>yes</td>\n",
       "      <td>no</td>\n",
       "    </tr>\n",
       "    <tr>\n",
       "      <th>...</th>\n",
       "      <td>...</td>\n",
       "      <td>...</td>\n",
       "      <td>...</td>\n",
       "      <td>...</td>\n",
       "      <td>...</td>\n",
       "      <td>...</td>\n",
       "      <td>...</td>\n",
       "      <td>...</td>\n",
       "      <td>...</td>\n",
       "      <td>...</td>\n",
       "      <td>...</td>\n",
       "      <td>...</td>\n",
       "      <td>...</td>\n",
       "    </tr>\n",
       "    <tr>\n",
       "      <th>5185</th>\n",
       "      <td>5186</td>\n",
       "      <td>0</td>\n",
       "      <td>female</td>\n",
       "      <td>22.0</td>\n",
       "      <td>0.55</td>\n",
       "      <td>0</td>\n",
       "      <td>0</td>\n",
       "      <td>0</td>\n",
       "      <td>no</td>\n",
       "      <td>no</td>\n",
       "      <td>no</td>\n",
       "      <td>no</td>\n",
       "      <td>no</td>\n",
       "    </tr>\n",
       "    <tr>\n",
       "      <th>5186</th>\n",
       "      <td>5187</td>\n",
       "      <td>0</td>\n",
       "      <td>male</td>\n",
       "      <td>27.0</td>\n",
       "      <td>1.30</td>\n",
       "      <td>0</td>\n",
       "      <td>0</td>\n",
       "      <td>1</td>\n",
       "      <td>no</td>\n",
       "      <td>no</td>\n",
       "      <td>no</td>\n",
       "      <td>no</td>\n",
       "      <td>no</td>\n",
       "    </tr>\n",
       "    <tr>\n",
       "      <th>5187</th>\n",
       "      <td>5188</td>\n",
       "      <td>0</td>\n",
       "      <td>female</td>\n",
       "      <td>37.0</td>\n",
       "      <td>0.25</td>\n",
       "      <td>1</td>\n",
       "      <td>0</td>\n",
       "      <td>1</td>\n",
       "      <td>no</td>\n",
       "      <td>no</td>\n",
       "      <td>yes</td>\n",
       "      <td>no</td>\n",
       "      <td>no</td>\n",
       "    </tr>\n",
       "    <tr>\n",
       "      <th>5188</th>\n",
       "      <td>5189</td>\n",
       "      <td>0</td>\n",
       "      <td>female</td>\n",
       "      <td>52.0</td>\n",
       "      <td>0.65</td>\n",
       "      <td>0</td>\n",
       "      <td>0</td>\n",
       "      <td>0</td>\n",
       "      <td>no</td>\n",
       "      <td>no</td>\n",
       "      <td>no</td>\n",
       "      <td>no</td>\n",
       "      <td>no</td>\n",
       "    </tr>\n",
       "    <tr>\n",
       "      <th>5189</th>\n",
       "      <td>5190</td>\n",
       "      <td>0</td>\n",
       "      <td>male</td>\n",
       "      <td>72.0</td>\n",
       "      <td>0.25</td>\n",
       "      <td>0</td>\n",
       "      <td>0</td>\n",
       "      <td>0</td>\n",
       "      <td>no</td>\n",
       "      <td>no</td>\n",
       "      <td>yes</td>\n",
       "      <td>no</td>\n",
       "      <td>no</td>\n",
       "    </tr>\n",
       "  </tbody>\n",
       "</table>\n",
       "<p>5190 rows × 13 columns</p>\n",
       "</div>"
      ],
      "text/plain": [
       "      Unnamed: 0  visits  gender   age  income  illness  reduced  health  \\\n",
       "0              1       1  female  19.0    0.55        1        4       1   \n",
       "1              2       1  female  19.0    0.45        1        2       1   \n",
       "2              3       1    male  19.0    0.90        3        0       0   \n",
       "3              4       1    male  19.0    0.15        1        0       0   \n",
       "4              5       1    male  19.0    0.45        2        5       1   \n",
       "...          ...     ...     ...   ...     ...      ...      ...     ...   \n",
       "5185        5186       0  female  22.0    0.55        0        0       0   \n",
       "5186        5187       0    male  27.0    1.30        0        0       1   \n",
       "5187        5188       0  female  37.0    0.25        1        0       1   \n",
       "5188        5189       0  female  52.0    0.65        0        0       0   \n",
       "5189        5190       0    male  72.0    0.25        0        0       0   \n",
       "\n",
       "     private freepoor freerepat nchronic lchronic  \n",
       "0        yes       no        no       no       no  \n",
       "1        yes       no        no       no       no  \n",
       "2         no       no        no       no       no  \n",
       "3         no       no        no       no       no  \n",
       "4         no       no        no      yes       no  \n",
       "...      ...      ...       ...      ...      ...  \n",
       "5185      no       no        no       no       no  \n",
       "5186      no       no        no       no       no  \n",
       "5187      no       no       yes       no       no  \n",
       "5188      no       no        no       no       no  \n",
       "5189      no       no       yes       no       no  \n",
       "\n",
       "[5190 rows x 13 columns]"
      ]
     },
     "execution_count": 8,
     "metadata": {},
     "output_type": "execute_result"
    }
   ],
   "source": [
    "df[\"age\"]=df[\"age\"]*100\n",
    "df"
   ]
  },
  {
   "cell_type": "markdown",
   "id": "51262ce7",
   "metadata": {},
   "source": [
    "<h3>iv.Converting income into dollars</h3>"
   ]
  },
  {
   "cell_type": "code",
   "execution_count": 9,
   "id": "977cd633",
   "metadata": {
    "scrolled": false
   },
   "outputs": [
    {
     "data": {
      "text/html": [
       "<div>\n",
       "<style scoped>\n",
       "    .dataframe tbody tr th:only-of-type {\n",
       "        vertical-align: middle;\n",
       "    }\n",
       "\n",
       "    .dataframe tbody tr th {\n",
       "        vertical-align: top;\n",
       "    }\n",
       "\n",
       "    .dataframe thead th {\n",
       "        text-align: right;\n",
       "    }\n",
       "</style>\n",
       "<table border=\"1\" class=\"dataframe\">\n",
       "  <thead>\n",
       "    <tr style=\"text-align: right;\">\n",
       "      <th></th>\n",
       "      <th>Unnamed: 0</th>\n",
       "      <th>visits</th>\n",
       "      <th>gender</th>\n",
       "      <th>age</th>\n",
       "      <th>income</th>\n",
       "      <th>illness</th>\n",
       "      <th>reduced</th>\n",
       "      <th>health</th>\n",
       "      <th>private</th>\n",
       "      <th>freepoor</th>\n",
       "      <th>freerepat</th>\n",
       "      <th>nchronic</th>\n",
       "      <th>lchronic</th>\n",
       "    </tr>\n",
       "  </thead>\n",
       "  <tbody>\n",
       "    <tr>\n",
       "      <th>0</th>\n",
       "      <td>1</td>\n",
       "      <td>1</td>\n",
       "      <td>female</td>\n",
       "      <td>19.0</td>\n",
       "      <td>5500.0</td>\n",
       "      <td>1</td>\n",
       "      <td>4</td>\n",
       "      <td>1</td>\n",
       "      <td>yes</td>\n",
       "      <td>no</td>\n",
       "      <td>no</td>\n",
       "      <td>no</td>\n",
       "      <td>no</td>\n",
       "    </tr>\n",
       "    <tr>\n",
       "      <th>1</th>\n",
       "      <td>2</td>\n",
       "      <td>1</td>\n",
       "      <td>female</td>\n",
       "      <td>19.0</td>\n",
       "      <td>4500.0</td>\n",
       "      <td>1</td>\n",
       "      <td>2</td>\n",
       "      <td>1</td>\n",
       "      <td>yes</td>\n",
       "      <td>no</td>\n",
       "      <td>no</td>\n",
       "      <td>no</td>\n",
       "      <td>no</td>\n",
       "    </tr>\n",
       "    <tr>\n",
       "      <th>2</th>\n",
       "      <td>3</td>\n",
       "      <td>1</td>\n",
       "      <td>male</td>\n",
       "      <td>19.0</td>\n",
       "      <td>9000.0</td>\n",
       "      <td>3</td>\n",
       "      <td>0</td>\n",
       "      <td>0</td>\n",
       "      <td>no</td>\n",
       "      <td>no</td>\n",
       "      <td>no</td>\n",
       "      <td>no</td>\n",
       "      <td>no</td>\n",
       "    </tr>\n",
       "    <tr>\n",
       "      <th>3</th>\n",
       "      <td>4</td>\n",
       "      <td>1</td>\n",
       "      <td>male</td>\n",
       "      <td>19.0</td>\n",
       "      <td>1500.0</td>\n",
       "      <td>1</td>\n",
       "      <td>0</td>\n",
       "      <td>0</td>\n",
       "      <td>no</td>\n",
       "      <td>no</td>\n",
       "      <td>no</td>\n",
       "      <td>no</td>\n",
       "      <td>no</td>\n",
       "    </tr>\n",
       "    <tr>\n",
       "      <th>4</th>\n",
       "      <td>5</td>\n",
       "      <td>1</td>\n",
       "      <td>male</td>\n",
       "      <td>19.0</td>\n",
       "      <td>4500.0</td>\n",
       "      <td>2</td>\n",
       "      <td>5</td>\n",
       "      <td>1</td>\n",
       "      <td>no</td>\n",
       "      <td>no</td>\n",
       "      <td>no</td>\n",
       "      <td>yes</td>\n",
       "      <td>no</td>\n",
       "    </tr>\n",
       "    <tr>\n",
       "      <th>...</th>\n",
       "      <td>...</td>\n",
       "      <td>...</td>\n",
       "      <td>...</td>\n",
       "      <td>...</td>\n",
       "      <td>...</td>\n",
       "      <td>...</td>\n",
       "      <td>...</td>\n",
       "      <td>...</td>\n",
       "      <td>...</td>\n",
       "      <td>...</td>\n",
       "      <td>...</td>\n",
       "      <td>...</td>\n",
       "      <td>...</td>\n",
       "    </tr>\n",
       "    <tr>\n",
       "      <th>5185</th>\n",
       "      <td>5186</td>\n",
       "      <td>0</td>\n",
       "      <td>female</td>\n",
       "      <td>22.0</td>\n",
       "      <td>5500.0</td>\n",
       "      <td>0</td>\n",
       "      <td>0</td>\n",
       "      <td>0</td>\n",
       "      <td>no</td>\n",
       "      <td>no</td>\n",
       "      <td>no</td>\n",
       "      <td>no</td>\n",
       "      <td>no</td>\n",
       "    </tr>\n",
       "    <tr>\n",
       "      <th>5186</th>\n",
       "      <td>5187</td>\n",
       "      <td>0</td>\n",
       "      <td>male</td>\n",
       "      <td>27.0</td>\n",
       "      <td>13000.0</td>\n",
       "      <td>0</td>\n",
       "      <td>0</td>\n",
       "      <td>1</td>\n",
       "      <td>no</td>\n",
       "      <td>no</td>\n",
       "      <td>no</td>\n",
       "      <td>no</td>\n",
       "      <td>no</td>\n",
       "    </tr>\n",
       "    <tr>\n",
       "      <th>5187</th>\n",
       "      <td>5188</td>\n",
       "      <td>0</td>\n",
       "      <td>female</td>\n",
       "      <td>37.0</td>\n",
       "      <td>2500.0</td>\n",
       "      <td>1</td>\n",
       "      <td>0</td>\n",
       "      <td>1</td>\n",
       "      <td>no</td>\n",
       "      <td>no</td>\n",
       "      <td>yes</td>\n",
       "      <td>no</td>\n",
       "      <td>no</td>\n",
       "    </tr>\n",
       "    <tr>\n",
       "      <th>5188</th>\n",
       "      <td>5189</td>\n",
       "      <td>0</td>\n",
       "      <td>female</td>\n",
       "      <td>52.0</td>\n",
       "      <td>6500.0</td>\n",
       "      <td>0</td>\n",
       "      <td>0</td>\n",
       "      <td>0</td>\n",
       "      <td>no</td>\n",
       "      <td>no</td>\n",
       "      <td>no</td>\n",
       "      <td>no</td>\n",
       "      <td>no</td>\n",
       "    </tr>\n",
       "    <tr>\n",
       "      <th>5189</th>\n",
       "      <td>5190</td>\n",
       "      <td>0</td>\n",
       "      <td>male</td>\n",
       "      <td>72.0</td>\n",
       "      <td>2500.0</td>\n",
       "      <td>0</td>\n",
       "      <td>0</td>\n",
       "      <td>0</td>\n",
       "      <td>no</td>\n",
       "      <td>no</td>\n",
       "      <td>yes</td>\n",
       "      <td>no</td>\n",
       "      <td>no</td>\n",
       "    </tr>\n",
       "  </tbody>\n",
       "</table>\n",
       "<p>5190 rows × 13 columns</p>\n",
       "</div>"
      ],
      "text/plain": [
       "      Unnamed: 0  visits  gender   age   income  illness  reduced  health  \\\n",
       "0              1       1  female  19.0   5500.0        1        4       1   \n",
       "1              2       1  female  19.0   4500.0        1        2       1   \n",
       "2              3       1    male  19.0   9000.0        3        0       0   \n",
       "3              4       1    male  19.0   1500.0        1        0       0   \n",
       "4              5       1    male  19.0   4500.0        2        5       1   \n",
       "...          ...     ...     ...   ...      ...      ...      ...     ...   \n",
       "5185        5186       0  female  22.0   5500.0        0        0       0   \n",
       "5186        5187       0    male  27.0  13000.0        0        0       1   \n",
       "5187        5188       0  female  37.0   2500.0        1        0       1   \n",
       "5188        5189       0  female  52.0   6500.0        0        0       0   \n",
       "5189        5190       0    male  72.0   2500.0        0        0       0   \n",
       "\n",
       "     private freepoor freerepat nchronic lchronic  \n",
       "0        yes       no        no       no       no  \n",
       "1        yes       no        no       no       no  \n",
       "2         no       no        no       no       no  \n",
       "3         no       no        no       no       no  \n",
       "4         no       no        no      yes       no  \n",
       "...      ...      ...       ...      ...      ...  \n",
       "5185      no       no        no       no       no  \n",
       "5186      no       no        no       no       no  \n",
       "5187      no       no       yes       no       no  \n",
       "5188      no       no        no       no       no  \n",
       "5189      no       no       yes       no       no  \n",
       "\n",
       "[5190 rows x 13 columns]"
      ]
     },
     "execution_count": 9,
     "metadata": {},
     "output_type": "execute_result"
    }
   ],
   "source": [
    "df[\"income\"]=df[\"income\"]*10000\n",
    "df"
   ]
  },
  {
   "cell_type": "markdown",
   "id": "9bc3e49e",
   "metadata": {},
   "source": [
    "<h3>Note:Now the data is ready for analysis</h3>"
   ]
  },
  {
   "cell_type": "markdown",
   "id": "14ca21a7",
   "metadata": {},
   "source": [
    "<h2>4.Exploring the data(Exploratory Data Analysis)</h2>"
   ]
  },
  {
   "cell_type": "markdown",
   "id": "4680cecb",
   "metadata": {},
   "source": [
    "<h3>i.Basic information about the columns.</h3>"
   ]
  },
  {
   "cell_type": "code",
   "execution_count": 10,
   "id": "468eb117",
   "metadata": {
    "scrolled": false
   },
   "outputs": [
    {
     "name": "stdout",
     "output_type": "stream",
     "text": [
      "<class 'pandas.core.frame.DataFrame'>\n",
      "RangeIndex: 5190 entries, 0 to 5189\n",
      "Data columns (total 13 columns):\n",
      " #   Column      Non-Null Count  Dtype  \n",
      "---  ------      --------------  -----  \n",
      " 0   Unnamed: 0  5190 non-null   int64  \n",
      " 1   visits      5190 non-null   int64  \n",
      " 2   gender      5190 non-null   object \n",
      " 3   age         5190 non-null   float64\n",
      " 4   income      5190 non-null   float64\n",
      " 5   illness     5190 non-null   int64  \n",
      " 6   reduced     5190 non-null   int64  \n",
      " 7   health      5190 non-null   int64  \n",
      " 8   private     5190 non-null   object \n",
      " 9   freepoor    5190 non-null   object \n",
      " 10  freerepat   5190 non-null   object \n",
      " 11  nchronic    5190 non-null   object \n",
      " 12  lchronic    5190 non-null   object \n",
      "dtypes: float64(2), int64(5), object(6)\n",
      "memory usage: 527.2+ KB\n"
     ]
    }
   ],
   "source": [
    "df.info()"
   ]
  },
  {
   "cell_type": "markdown",
   "id": "7539bc61",
   "metadata": {},
   "source": [
    "<h4>Result:</h4>Above result gives the data type and non-null count of columns in the data."
   ]
  },
  {
   "cell_type": "markdown",
   "id": "4f10e454",
   "metadata": {},
   "source": [
    "<h3>ii.Group the patients who visits the doctor based on number of visit count.</h3>"
   ]
  },
  {
   "cell_type": "code",
   "execution_count": 11,
   "id": "c9958378",
   "metadata": {
    "scrolled": false
   },
   "outputs": [
    {
     "data": {
      "text/plain": [
       "visits\n",
       "0    4141\n",
       "1     782\n",
       "2     174\n",
       "3      30\n",
       "4      24\n",
       "5       9\n",
       "6      12\n",
       "7      12\n",
       "8       5\n",
       "9       1\n",
       "Name: Unnamed: 0, dtype: int64"
      ]
     },
     "execution_count": 11,
     "metadata": {},
     "output_type": "execute_result"
    }
   ],
   "source": [
    "df[\"Unnamed: 0\"].groupby(df[\"visits\"]).count()"
   ]
  },
  {
   "cell_type": "markdown",
   "id": "cf9521bc",
   "metadata": {},
   "source": [
    "<h4>Result:</h4>Above analysis give the information that there are \"4141\" patients who visited doctor \"0\" and there are \"782\" patients who visited doctor \"1\" time etc.."
   ]
  },
  {
   "cell_type": "markdown",
   "id": "56443ce0",
   "metadata": {},
   "source": [
    "<h3>iii.Calculate the average income of patients.</h3>"
   ]
  },
  {
   "cell_type": "code",
   "execution_count": 12,
   "id": "b1b8956b",
   "metadata": {},
   "outputs": [
    {
     "data": {
      "text/plain": [
       "5831.599229287091"
      ]
     },
     "execution_count": 12,
     "metadata": {},
     "output_type": "execute_result"
    }
   ],
   "source": [
    "df[\"income\"].mean()"
   ]
  },
  {
   "cell_type": "markdown",
   "id": "32f171e2",
   "metadata": {},
   "source": [
    "<h4>Result:</h4>Average income of patients in dollars is 5831.599229287091"
   ]
  },
  {
   "cell_type": "markdown",
   "id": "96d0b9e3",
   "metadata": {},
   "source": [
    "<h3>iv.Calculate the sum of income based on ages.</h3>"
   ]
  },
  {
   "cell_type": "code",
   "execution_count": 13,
   "id": "9df43b84",
   "metadata": {},
   "outputs": [
    {
     "data": {
      "text/plain": [
       "age\n",
       "19.0    3145900.0\n",
       "22.0    7895800.0\n",
       "27.0    4430100.0\n",
       "32.0    2808700.0\n",
       "37.0    1295700.0\n",
       "42.0    1060900.0\n",
       "47.0    1353900.0\n",
       "52.0    1486900.0\n",
       "57.0    1428300.0\n",
       "62.0    1453400.0\n",
       "67.0    1100500.0\n",
       "72.0    2805900.0\n",
       "Name: income, dtype: float64"
      ]
     },
     "execution_count": 13,
     "metadata": {},
     "output_type": "execute_result"
    }
   ],
   "source": [
    "df[\"income\"].groupby(df[\"age\"]).sum()"
   ]
  },
  {
   "cell_type": "markdown",
   "id": "c84a1598",
   "metadata": {},
   "source": [
    "<h4>Result:</h4>Above data represent the sum of incomes based on their ages."
   ]
  },
  {
   "cell_type": "markdown",
   "id": "e000cacb",
   "metadata": {},
   "source": [
    "<h3>V.Count the number of patients who have private insurance</h3>"
   ]
  },
  {
   "cell_type": "code",
   "execution_count": 14,
   "id": "196be021",
   "metadata": {},
   "outputs": [
    {
     "data": {
      "text/plain": [
       "2298"
      ]
     },
     "execution_count": 14,
     "metadata": {},
     "output_type": "execute_result"
    }
   ],
   "source": [
    "count1=df[df[\"private\"]==\"yes\"]\n",
    "count1[\"private\"].count()"
   ]
  },
  {
   "cell_type": "markdown",
   "id": "d2c10204",
   "metadata": {},
   "source": [
    "<h4>Result:</h4>There are \"2298\" patients who has private insurance."
   ]
  },
  {
   "cell_type": "markdown",
   "id": "d61a7c0e",
   "metadata": {},
   "source": [
    "<h3>Vi.Count the number of patients who have free government health insurance due to low income and also count who doesnot have  free government health insurance due to low income.</h3>"
   ]
  },
  {
   "cell_type": "code",
   "execution_count": 15,
   "id": "bb6515c0",
   "metadata": {},
   "outputs": [
    {
     "name": "stdout",
     "output_type": "stream",
     "text": [
      "Number of patients who have free government health insurance due to low income:  222\n",
      "Number of patients who didnot have free government health insurance due to low income:  4968\n"
     ]
    }
   ],
   "source": [
    "count2=df[df[\"freepoor\"]==\"yes\"]\n",
    "print(\"Number of patients who have free government health insurance due to low income: \",count2[\"freepoor\"].count())\n",
    "count3=df[df[\"freepoor\"]==\"no\"]\n",
    "print(\"Number of patients who didnot have free government health insurance due to low income: \",count3[\"freepoor\"].count())"
   ]
  },
  {
   "cell_type": "markdown",
   "id": "4052c79d",
   "metadata": {},
   "source": [
    "<h4>Result:</h4>\n",
    "    There are \"222\" patients who have free government health insurance due to low income and \"4968\" patients didnot have free government health insurance due to low income."
   ]
  },
  {
   "cell_type": "markdown",
   "id": "03acb415",
   "metadata": {},
   "source": [
    "<h3>Vii.Count the number of patients who have free government health insurance due to old age, disability or veteran status.</h3>"
   ]
  },
  {
   "cell_type": "code",
   "execution_count": 16,
   "id": "9856f53d",
   "metadata": {},
   "outputs": [
    {
     "name": "stdout",
     "output_type": "stream",
     "text": [
      "Number of patients who have free government health insurance due to old age, disability or veteran status : 1091\n",
      "Number of patients who didnot have free government health insurance due to old age, disability or veteran status : 4099\n"
     ]
    }
   ],
   "source": [
    "count4=df[df[\"freerepat\"]==\"yes\"]\n",
    "print(\"Number of patients who have free government health insurance due to old age, disability or veteran status :\",count4[\"freerepat\"].count())\n",
    "count5=df[df[\"freerepat\"]==\"no\"]\n",
    "print(\"Number of patients who didnot have free government health insurance due to old age, disability or veteran status :\",count5[\"freerepat\"].count())"
   ]
  },
  {
   "cell_type": "markdown",
   "id": "8cea2677",
   "metadata": {},
   "source": [
    "<h4>Result:</h4>\n",
    "There are \"1091\" patients who have free government health insurance due to old age, disability or veteran status and there are \"4099\" patients  who didnot have free government health insurance due to old age, disability or veteran status"
   ]
  },
  {
   "cell_type": "markdown",
   "id": "f9e36196",
   "metadata": {},
   "source": [
    "<h3>Viii.Total number of days of reduced activity in past 2 weeks due to illness or injury by total patients.</h3>"
   ]
  },
  {
   "cell_type": "code",
   "execution_count": 17,
   "id": "acf80e5c",
   "metadata": {},
   "outputs": [
    {
     "name": "stdout",
     "output_type": "stream",
     "text": [
      "Total Number of days of reduced activity in past 2 weeks due to illness or injury by total patients : 4473\n"
     ]
    }
   ],
   "source": [
    "num=df[\"reduced\"].sum()\n",
    "print(\"Total Number of days of reduced activity in past 2 weeks due to illness or injury by total patients :\",num)"
   ]
  },
  {
   "cell_type": "markdown",
   "id": "c45e74d1",
   "metadata": {},
   "source": [
    "<h4>Result:</h4>There are \"4474\" days of reduced activity in past 2 weeks due to illness or injury by total patients."
   ]
  },
  {
   "cell_type": "markdown",
   "id": "0cf242e8",
   "metadata": {},
   "source": [
    "<h3>ix.Count number of female and male patients.</h3>"
   ]
  },
  {
   "cell_type": "code",
   "execution_count": 18,
   "id": "90f9fc0f",
   "metadata": {},
   "outputs": [
    {
     "data": {
      "text/plain": [
       "gender\n",
       "female    2702\n",
       "male      2488\n",
       "Name: Unnamed: 0, dtype: int64"
      ]
     },
     "execution_count": 18,
     "metadata": {},
     "output_type": "execute_result"
    }
   ],
   "source": [
    "df[\"Unnamed: 0\"].groupby(df[\"gender\"]).count()"
   ]
  },
  {
   "cell_type": "markdown",
   "id": "3b89e6b7",
   "metadata": {},
   "source": [
    "<h4>Result:</h4>\n",
    "There are \"2702\" female and \"2488\" male patients."
   ]
  },
  {
   "cell_type": "markdown",
   "id": "a42ecc44",
   "metadata": {},
   "source": [
    "<h3>x.Calculate the number of males and females have the General health questionnaire score is equal to \"1\".</h3>"
   ]
  },
  {
   "cell_type": "code",
   "execution_count": 19,
   "id": "651e674e",
   "metadata": {},
   "outputs": [
    {
     "data": {
      "text/plain": [
       "gender\n",
       "female    395\n",
       "male      428\n",
       "Name: health, dtype: int64"
      ]
     },
     "execution_count": 19,
     "metadata": {},
     "output_type": "execute_result"
    }
   ],
   "source": [
    "number=df[df[\"health\"]==1]\n",
    "number[\"health\"].groupby(df[\"gender\"]).count()"
   ]
  },
  {
   "cell_type": "markdown",
   "id": "7f8dc0e5",
   "metadata": {},
   "source": [
    "<h4>Result:</h4>\n",
    "There are \"395\" males and \"428\" females who have the General health questionnaire score is equal to \"1\"."
   ]
  },
  {
   "cell_type": "markdown",
   "id": "45285ebf",
   "metadata": {},
   "source": [
    "<h3>Xi.FInd the maximum and minimum income of the patients.</h3>"
   ]
  },
  {
   "cell_type": "code",
   "execution_count": 20,
   "id": "4bb562d1",
   "metadata": {
    "scrolled": false
   },
   "outputs": [
    {
     "name": "stdout",
     "output_type": "stream",
     "text": [
      "Maximum income : 15000.0\n",
      "Minimum income : 0.0\n"
     ]
    }
   ],
   "source": [
    "maximum1=df[\"income\"].max()\n",
    "print(\"Maximum income :\",maximum1)\n",
    "minimum1=df[\"income\"].min()\n",
    "print(\"Minimum income :\",minimum1)"
   ]
  },
  {
   "cell_type": "markdown",
   "id": "e019d231",
   "metadata": {},
   "source": [
    "<h4>Result:</h4>\n",
    "Maximum and minimum income(in dollars) are 15000 and 0 respectively.  \n"
   ]
  },
  {
   "cell_type": "markdown",
   "id": "14bcff29",
   "metadata": {},
   "source": [
    "<h3>Xii.Find the maximum and minimum age.</h3>"
   ]
  },
  {
   "cell_type": "code",
   "execution_count": 21,
   "id": "aae72fb0",
   "metadata": {},
   "outputs": [
    {
     "name": "stdout",
     "output_type": "stream",
     "text": [
      "Maximum age : 72.0\n",
      "Minimum age : 19.0\n"
     ]
    }
   ],
   "source": [
    "maximum2=df[\"age\"].max()\n",
    "print(\"Maximum age :\",maximum2)\n",
    "minimum2=df[\"age\"].min()\n",
    "print(\"Minimum age :\",minimum2)"
   ]
  },
  {
   "cell_type": "markdown",
   "id": "62b79cbd",
   "metadata": {},
   "source": [
    "<h4>Result</h4>\n",
    "Maximum and minimum age are 72 and 19 respectively."
   ]
  },
  {
   "cell_type": "markdown",
   "id": "8b6f9584",
   "metadata": {},
   "source": [
    "<h2>5.Visualisation of data.</h2>"
   ]
  },
  {
   "cell_type": "markdown",
   "id": "169b7857",
   "metadata": {},
   "source": [
    "<h3>i.Display the sum of incomes of both males and females individually.</h3>"
   ]
  },
  {
   "cell_type": "code",
   "execution_count": 22,
   "id": "260ced0b",
   "metadata": {
    "scrolled": false
   },
   "outputs": [
    {
     "data": {
      "image/png": "[encoded data removed]",
      "text/plain": [
       "<Figure size 640x480 with 1 Axes>"
      ]
     },
     "metadata": {},
     "output_type": "display_data"
    }
   ],
   "source": [
    "gen=[\"female\",\"male\"]\n",
    "income=list(df[\"income\"].groupby(df[\"gender\"]).sum())\n",
    "plt.barh(gen,income,color='#B7C3F3')\n",
    "plt.title(\"Sum of incomes of both males and females individually\")\n",
    "plt.ylabel(\"Gender\")\n",
    "plt.xlabel(\"Sum of incomes\")\n",
    "plt.show()"
   ]
  },
  {
   "cell_type": "markdown",
   "id": "9c36d5eb",
   "metadata": {},
   "source": [
    "<h3>ii.Display the percentages of people who have and who donot have the free government health insurance due to low income </h3>"
   ]
  },
  {
   "cell_type": "code",
   "execution_count": 26,
   "id": "62192722",
   "metadata": {},
   "outputs": [
    {
     "data": {
      "image/png": "[encoded data removed]",
      "text/plain": [
       "<Figure size 640x480 with 1 Axes>"
      ]
     },
     "metadata": {},
     "output_type": "display_data"
    }
   ],
   "source": [
    "label=[\"yes\",\"no\"]\n",
    "val1=df[df[\"freepoor\"]==\"yes\"]\n",
    "y1=val1[\"freepoor\"].count()\n",
    "val2=df[df[\"freepoor\"]==\"no\"]\n",
    "n1=val2[\"freepoor\"].count()\n",
    "color=[\"Pink\",'darkkhaki']\n",
    "plt.title(\"Percentage of people who have and who donot have the free government health insurance due to low income\")\n",
    "plt.pie([y1,n1],labels=label,autopct='%1.1f%%',colors=color,wedgeprops = { 'linewidth' : 3, 'edgecolor' : 'white' })\n",
    "plt.legend()\n",
    "plt.show()"
   ]
  },
  {
   "cell_type": "markdown",
   "id": "1b467b6a",
   "metadata": {},
   "source": [
    "<h3>iii.Display the percentages of people who have and who donot have the free government health insurance due to old age,disability or veteran status.</h3>"
   ]
  },
  {
   "cell_type": "code",
   "execution_count": 24,
   "id": "ffcde0b9",
   "metadata": {
    "scrolled": false
   },
   "outputs": [
    {
     "data": {
      "image/png": "[encoded data removed]",
      "text/plain": [
       "<Figure size 640x480 with 1 Axes>"
      ]
     },
     "metadata": {},
     "output_type": "display_data"
    }
   ],
   "source": [
    "label=[\"yes\",\"no\"]\n",
    "val3=df[df[\"freerepat\"]==\"yes\"]\n",
    "y2=val3[\"freerepat\"].count()\n",
    "val4=df[df[\"freerepat\"]==\"no\"]\n",
    "n2=val2[\"freerepat\"].count()\n",
    "color=[\"blueviolet\",\"teal\"]\n",
    "plt.title(\"Percentages of people who have and who donot have the free government health insurance due to old age,disability or veteran status\")\n",
    "plt.pie([y2,n2],labels=label,autopct='%1.1f%%',colors=color,wedgeprops = { 'linewidth' : 3, 'edgecolor' : 'white' })\n",
    "plt.legend()\n",
    "plt.show()"
   ]
  },
  {
   "cell_type": "markdown",
   "id": "5c69863e",
   "metadata": {},
   "source": [
    "<h3>iii.Display the percentages of people who have and who donot have the private health insurance.</h3>"
   ]
  },
  {
   "cell_type": "code",
   "execution_count": 23,
   "id": "4c7f5094",
   "metadata": {},
   "outputs": [
    {
     "data": {
      "image/png": "[encoded data removed]",
      "text/plain": [
       "<Figure size 640x480 with 1 Axes>"
      ]
     },
     "metadata": {},
     "output_type": "display_data"
    }
   ],
   "source": [
    "label=[\"yes\",\"no\"]\n",
    "val5=df[df[\"private\"]==\"yes\"]\n",
    "y3=val5[\"private\"].count()\n",
    "val6=df[df[\"private\"]==\"no\"]\n",
    "n3=val6[\"private\"].count()\n",
    "plt.title(\"Percentages of people who have and who donot have the private health insurance.\")\n",
    "plt.pie([y3,n3],labels=label,autopct='%1.11f%%',wedgeprops = { 'linewidth' : 3, 'edgecolor' : 'white' })\n",
    "plt.legend()\n",
    "plt.show()"
   ]
  },
  {
   "cell_type": "markdown",
   "id": "cb8655ba",
   "metadata": {},
   "source": [
    "<h3>iV.Visualize the correlation between columns.</h3>"
   ]
  },
  {
   "cell_type": "code",
   "execution_count": 24,
   "id": "76e3020b",
   "metadata": {},
   "outputs": [
    {
     "data": {
      "image/png": "[encoded data removed]",
      "text/plain": [
       "<Figure size 640x480 with 2 Axes>"
      ]
     },
     "metadata": {},
     "output_type": "display_data"
    }
   ],
   "source": [
    "correlation=df.corr()\n",
    "sns.heatmap(correlation)\n",
    "plt.title(\"Correlation between columns in the dataset\")\n",
    "plt.show()"
   ]
  },
  {
   "cell_type": "markdown",
   "id": "20eefa8c",
   "metadata": {},
   "source": [
    "<h3>V.Display the frequency of people present in each age group.</h3>"
   ]
  },
  {
   "cell_type": "code",
   "execution_count": 25,
   "id": "0ffc0b60",
   "metadata": {
    "scrolled": false
   },
   "outputs": [
    {
     "data": {
      "image/png": "[encoded data removed]",
      "text/plain": [
       "<Figure size 640x480 with 1 Axes>"
      ]
     },
     "metadata": {},
     "output_type": "display_data"
    }
   ],
   "source": [
    "bins=df[\"age\"].unique()\n",
    "plt.title(\"Frequency of people present in each age group.\")\n",
    "plt.hist(df[\"age\"],bins=bins,color=\"b\")\n",
    "plt.xlabel(\"Ages\")\n",
    "plt.ylabel(\"Frequency\")\n",
    "plt.show()"
   ]
  },
  {
   "cell_type": "markdown",
   "id": "19b8a25f",
   "metadata": {},
   "source": [
    "<h3>Vi.Visualize the total number of patients present in different types of illness Codes.</h3> "
   ]
  },
  {
   "cell_type": "code",
   "execution_count": 26,
   "id": "dcf6e331",
   "metadata": {},
   "outputs": [
    {
     "data": {
      "image/png": "[encoded data removed]",
      "text/plain": [
       "<Figure size 640x480 with 1 Axes>"
      ]
     },
     "metadata": {},
     "output_type": "display_data"
    }
   ],
   "source": [
    "binss=df[\"illness\"].unique().sort()\n",
    "plt.title(\"The total number of patients present in different types of illness Codes.\")\n",
    "plt.hist(df[\"illness\"],bins=binss,color=\"r\")\n",
    "plt.xlabel(\"illness code\")\n",
    "plt.ylabel(\"Count\")\n",
    "plt.show()"
   ]
  },
  {
   "cell_type": "markdown",
   "id": "cc729c89",
   "metadata": {},
   "source": [
    "<h3>Vii.Visualize the percentages of yes and no in lchronic column and nchronic column</h3>"
   ]
  },
  {
   "cell_type": "code",
   "execution_count": 28,
   "id": "8dc79002",
   "metadata": {
    "scrolled": false
   },
   "outputs": [
    {
     "data": {
      "image/png": "[encoded data removed]",
      "text/plain": [
       "<Figure size 640x480 with 2 Axes>"
      ]
     },
     "metadata": {},
     "output_type": "display_data"
    }
   ],
   "source": [
    "label=[\"yes\",\"no\"]\n",
    "explodes=[0.1,0]\n",
    "color=[\"green\",\"red\"]\n",
    "v=df[df[\"nchronic\"]==\"yes\"]\n",
    "yes1=v[\"nchronic\"].count()\n",
    "t=df[df[\"nchronic\"]==\"no\"]\n",
    "no1=t[\"nchronic\"].count()\n",
    "plt.subplot(2,1,1)\n",
    "plt.title(\"Percentages of yes and no in nchronic column\")\n",
    "plt.pie([yes1,no1],labels=label,explode=explodes,colors=color,autopct=\"%1.1f%%\")\n",
    "plt.subplot(2,1,2)\n",
    "v2=df[df[\"lchronic\"]==\"yes\"]\n",
    "yes2=v2[\"lchronic\"].count()\n",
    "t2=df[df[\"lchronic\"]==\"no\"]\n",
    "no2=t2[\"lchronic\"].count()\n",
    "plt.pie([yes2,no2],labels=label,explode=explodes,colors=color,autopct=\"%1.1f%%\")\n",
    "plt.title(\"Percentages of yes and no in lchronic column.\")\n",
    "plt.show()"
   ]
  },
  {
   "cell_type": "markdown",
   "id": "2dd35c96",
   "metadata": {},
   "source": [
    "<h3>Viii.Visualize which age group people are visiting the doctor most.</h3>"
   ]
  },
  {
   "cell_type": "code",
   "execution_count": 38,
   "id": "b40ebc76",
   "metadata": {},
   "outputs": [
    {
     "data": {
      "image/png": "[encoded data removed]",
      "text/plain": [
       "<Figure size 640x480 with 1 Axes>"
      ]
     },
     "metadata": {},
     "output_type": "display_data"
    }
   ],
   "source": [
    "age1=df[\"Unnamed: 0\"].groupby(df[\"age\"]).count()\n",
    "label3=df[\"age\"].unique()\n",
    "age2=list(age1)\n",
    "plt.bar(label3,age2,color=\"cyan\")\n",
    "plt.title(\"Visualizing which group people visit the doctor most\")\n",
    "plt.xlabel(\"Age group\")\n",
    "plt.ylabel(\"Number of patients visiting the doctor based on age groups\")\n",
    "plt.show()"
   ]
  },
  {
   "cell_type": "markdown",
   "id": "058d7ee5",
   "metadata": {},
   "source": [
    "<h3>ix.Visualize the number of visits based on age group.</h3>"
   ]
  },
  {
   "cell_type": "code",
   "execution_count": 45,
   "id": "86d8560f",
   "metadata": {},
   "outputs": [
    {
     "data": {
      "image/png": "[encoded data removed]",
      "text/plain": [
       "<Figure size 640x480 with 1 Axes>"
      ]
     },
     "metadata": {},
     "output_type": "display_data"
    }
   ],
   "source": [
    "visit1=df[\"visits\"].groupby(df[\"age\"]).sum()\n",
    "visit2=list(visit1)\n",
    "age4=df[\"age\"].unique()\n",
    "color=[\"grey\",\"brown\",\"sienna\",\"navajowhite\",\"darkkhaki\",\"olivedrab\",\"turquoise\",\"aqua\",\"darkblue\",\"rebeccapurple\",\"crimson\",\"magenta\"]\n",
    "plt.pie(visit1,labels=age4,autopct=\"%1.1f%%\",wedgeprops = { 'linewidth' : 2, 'edgecolor' : 'white' },colors=color)\n",
    "plt.title(\"The number of visits based on age group.\")\n",
    "plt.show()"
   ]
  },
  {
   "cell_type": "markdown",
   "id": "75f20da6",
   "metadata": {},
   "source": [
    "<h3>X.Visualise the General health questionnaire score for male and female who having score '0' and '1'.</h3>"
   ]
  },
  {
   "cell_type": "code",
   "execution_count": 75,
   "id": "07c02d5a",
   "metadata": {
    "scrolled": false
   },
   "outputs": [
    {
     "data": {
      "image/png": "[encoded data removed]",
      "text/plain": [
       "<Figure size 640x480 with 1 Axes>"
      ]
     },
     "metadata": {},
     "output_type": "display_data"
    }
   ],
   "source": [
    "label0=[\"Males with score 0\",\"Males with score 1\",\"Females with score 0\",\"Females with score 1\"]\n",
    "mw01=df[(df[\"gender\"]==\"male\")]\n",
    "mw02=mw01[mw01[\"health\"]==0].count()\n",
    "mw10=mw01[mw01[\"health\"]==1].count()\n",
    "fw01=df[(df[\"gender\"]==\"female\")]\n",
    "fw02=fw01[fw01[\"health\"]==0].count()\n",
    "fw10=fw01[fw01[\"health\"]==1].count()\n",
    "plt.bar(label0,[mw02[0],mw10[0],fw02[0],fw10[0]],color=\"blueviolet\")\n",
    "plt.title(\"General health questionnaire score for male and female who having score '0' and '1'\")\n",
    "plt.xlabel(\"Gender with score\")\n",
    "plt.ylabel(\"Count\")\n",
    "plt.show()"
   ]
  },
  {
   "cell_type": "code",
   "execution_count": null,
   "id": "3933c1ef",
   "metadata": {},
   "outputs": [],
   "source": []
  }
 ],
 "metadata": {
  "kernelspec": {
   "display_name": "Python 3 (ipykernel)",
   "language": "python",
   "name": "python3"
  },
  "language_info": {
   "codemirror_mode": {
    "name": "ipython",
    "version": 3
   },
   "file_extension": ".py",
   "mimetype": "text/x-python",
   "name": "python",
   "nbconvert_exporter": "python",
   "pygments_lexer": "ipython3",
   "version": "3.9.13"
  }
 },
 "nbformat": 4,
 "nbformat_minor": 5
}
